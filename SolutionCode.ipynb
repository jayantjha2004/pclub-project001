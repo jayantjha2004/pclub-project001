{
 "cells": [
  {
   "cell_type": "markdown",
   "id": "92507ba4",
   "metadata": {},
   "source": [
    "'''All import statements'''"
   ]
  },
  {
   "cell_type": "code",
   "execution_count": 1,
   "id": "82d87ef1",
   "metadata": {},
   "outputs": [],
   "source": [
    "from urllib.request import urlopen\n",
    "from bs4 import BeautifulSoup\n"
   ]
  },
  {
   "cell_type": "markdown",
   "id": "d08a3189",
   "metadata": {},
   "source": [
    "Enter the URL  you want to crawl:\n"
   ]
  },
  {
   "cell_type": "code",
   "execution_count": 2,
   "id": "cc2a80b5",
   "metadata": {},
   "outputs": [],
   "source": [
    "url = 'https://www.google.com/'"
   ]
  },
  {
   "cell_type": "code",
   "execution_count": 3,
   "id": "81d4b491",
   "metadata": {},
   "outputs": [],
   "source": [
    "def getURLs(url):\n",
    "    try: \n",
    "        html = urlopen(url)\n",
    "    except:\n",
    "        return None\n",
    "    try:\n",
    "        bs =  BeautifulSoup(html.read(), 'html.parser')\n",
    "        links_list =  bs.find_all('a')\n",
    "    except:\n",
    "        return None\n",
    "    \n",
    "    i = 0\n",
    "    for links in links_list:\n",
    "        href = links.get('href')\n",
    "        links_list[i] = href;\n",
    "        i = i + 1\n",
    "    i=0    \n",
    "    for links in links_list:\n",
    "        try: \n",
    "            html2 = urlopen(links)\n",
    "        except:\n",
    "            links_list.remove(links_list[i])\n",
    "        i = i + 1\n",
    "    return links_list"
   ]
  },
  {
   "cell_type": "code",
   "execution_count": 4,
   "id": "741b4719",
   "metadata": {},
   "outputs": [],
   "source": [
    "def generatelist(diction, levels):\n",
    "    current = 1\n",
    "    while(levels):\n",
    "        diction[current + 1] = []\n",
    "        for links in diction[current]:\n",
    "            current_list = getURLs(links)\n",
    "            for new_links in current_list:\n",
    "                if(new_links == None):\n",
    "                    continue\n",
    "                diction[current+1].append(new_links)\n",
    "        current += 1\n",
    "        levels-=1"
   ]
  },
  {
   "cell_type": "code",
   "execution_count": 5,
   "id": "593d9438",
   "metadata": {},
   "outputs": [],
   "source": [
    "global_dict = {1 : [url]}"
   ]
  },
  {
   "cell_type": "markdown",
   "id": "9c02914f",
   "metadata": {},
   "source": [
    "Specify levels in the below cell:\n"
   ]
  },
  {
   "cell_type": "code",
   "execution_count": 6,
   "id": "4fc2e4d6",
   "metadata": {},
   "outputs": [],
   "source": [
    "Levels = 1"
   ]
  },
  {
   "cell_type": "code",
   "execution_count": 7,
   "id": "996b416b",
   "metadata": {},
   "outputs": [
    {
     "name": "stdout",
     "output_type": "stream",
     "text": [
      "The links for the level 1 are: \n",
      "https://www.google.com/\n",
      "The links for the level 2 are: \n",
      "https://www.google.co.in/imghp?hl=en&tab=wi\n",
      "https://maps.google.co.in/maps?hl=en&tab=wl\n",
      "https://play.google.com/?hl=en&tab=w8\n",
      "https://www.youtube.com/?tab=w1\n",
      "https://news.google.com/?tab=wn\n",
      "https://mail.google.com/mail/?tab=wm\n",
      "https://drive.google.com/?tab=wo\n",
      "https://www.google.co.in/intl/en/about/products?tab=wh\n",
      "http://www.google.co.in/history/optout?hl=en\n",
      "https://accounts.google.com/ServiceLogin?hl=en&passive=true&continue=https://www.google.com/&ec=GAZAAQ\n",
      "https://www.google.com/setprefs?sig=0_gPI-ys_wD2N5pzrDaw4NYpcjYfc%3D&hl=hi&source=homepage&sa=X&ved=0ahUKEwiziO_qrdL-AhWf2DgGHa2tBz4Q2ZgBCAU\n",
      "https://www.google.com/setprefs?sig=0_gPI-ys_wD2N5pzrDaw4NYpcjYfc%3D&hl=bn&source=homepage&sa=X&ved=0ahUKEwiziO_qrdL-AhWf2DgGHa2tBz4Q2ZgBCAY\n",
      "https://www.google.com/setprefs?sig=0_gPI-ys_wD2N5pzrDaw4NYpcjYfc%3D&hl=te&source=homepage&sa=X&ved=0ahUKEwiziO_qrdL-AhWf2DgGHa2tBz4Q2ZgBCAc\n",
      "https://www.google.com/setprefs?sig=0_gPI-ys_wD2N5pzrDaw4NYpcjYfc%3D&hl=mr&source=homepage&sa=X&ved=0ahUKEwiziO_qrdL-AhWf2DgGHa2tBz4Q2ZgBCAg\n",
      "https://www.google.com/setprefs?sig=0_gPI-ys_wD2N5pzrDaw4NYpcjYfc%3D&hl=ta&source=homepage&sa=X&ved=0ahUKEwiziO_qrdL-AhWf2DgGHa2tBz4Q2ZgBCAk\n",
      "https://www.google.com/setprefs?sig=0_gPI-ys_wD2N5pzrDaw4NYpcjYfc%3D&hl=gu&source=homepage&sa=X&ved=0ahUKEwiziO_qrdL-AhWf2DgGHa2tBz4Q2ZgBCAo\n",
      "https://www.google.com/setprefs?sig=0_gPI-ys_wD2N5pzrDaw4NYpcjYfc%3D&hl=kn&source=homepage&sa=X&ved=0ahUKEwiziO_qrdL-AhWf2DgGHa2tBz4Q2ZgBCAs\n",
      "https://www.google.com/setprefs?sig=0_gPI-ys_wD2N5pzrDaw4NYpcjYfc%3D&hl=ml&source=homepage&sa=X&ved=0ahUKEwiziO_qrdL-AhWf2DgGHa2tBz4Q2ZgBCAw\n",
      "https://www.google.com/setprefs?sig=0_gPI-ys_wD2N5pzrDaw4NYpcjYfc%3D&hl=pa&source=homepage&sa=X&ved=0ahUKEwiziO_qrdL-AhWf2DgGHa2tBz4Q2ZgBCA0\n",
      "http://www.google.co.in/services/\n",
      "https://www.google.com/setprefdomain?prefdom=IN&prev=https://www.google.co.in/&sig=K_MbbRjQhQstmyq5AvHV98LhYtCvg%3D\n",
      "/intl/en/policies/terms/\n"
     ]
    }
   ],
   "source": [
    "generatelist(global_dict, Levels)\n",
    "for level, level_list in global_dict.items():\n",
    "    print(\"The links for the level \" + str(level) + \" are: \")\n",
    "    for links in level_list:\n",
    "        print(links)"
   ]
  },
  {
   "cell_type": "code",
   "execution_count": null,
   "id": "096d0dfe",
   "metadata": {},
   "outputs": [],
   "source": []
  }
 ],
 "metadata": {
  "kernelspec": {
   "display_name": "Python 3 (ipykernel)",
   "language": "python",
   "name": "python3"
  },
  "language_info": {
   "codemirror_mode": {
    "name": "ipython",
    "version": 3
   },
   "file_extension": ".py",
   "mimetype": "text/x-python",
   "name": "python",
   "nbconvert_exporter": "python",
   "pygments_lexer": "ipython3",
   "version": "3.10.9"
  }
 },
 "nbformat": 4,
 "nbformat_minor": 5
}
